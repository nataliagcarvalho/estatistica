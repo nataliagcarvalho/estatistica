{
  "nbformat": 4,
  "nbformat_minor": 0,
  "metadata": {
    "colab": {
      "provenance": [],
      "collapsed_sections": []
    },
    "kernelspec": {
      "name": "python3",
      "display_name": "Python 3"
    },
    "language_info": {
      "name": "python"
    }
  },
  "cells": [
    {
      "cell_type": "markdown",
      "source": [
        "#**Desafio iFood**#"
      ],
      "metadata": {
        "id": "A81Dhc7bspYN"
      }
    },
    {
      "cell_type": "markdown",
      "source": [
        "##**IMPORT**"
      ],
      "metadata": {
        "id": "Ardueeh_1AaR"
      }
    },
    {
      "cell_type": "code",
      "execution_count": 5,
      "metadata": {
        "id": "r9vfq08mr8xp"
      },
      "outputs": [],
      "source": [
        "#importando bibliotecas\n",
        "import pandas as pd #manipular tabela\n",
        "import seaborn as sns #manipular grafico\n",
        "import numpy as np #operações numpy\n",
        "import matplotlib.pyplot as plt #manipular grafico"
      ]
    },
    {
      "cell_type": "markdown",
      "source": [
        "##**LOAD DATA**"
      ],
      "metadata": {
        "id": "iHKyDzgz1Fsu"
      }
    },
    {
      "cell_type": "code",
      "source": [
        "#importar csv\n",
        "df = pd.read_csv(\"mkt_data.csv\")"
      ],
      "metadata": {
        "id": "w8leBzQhsZU5"
      },
      "execution_count": 6,
      "outputs": []
    },
    {
      "cell_type": "code",
      "source": [
        "#visualizar\n",
        "df"
      ],
      "metadata": {
        "colab": {
          "base_uri": "https://localhost:8080/",
          "height": 505
        },
        "id": "UOTRXiF0s8sO",
        "outputId": "42cdfdf0-f1ca-498c-bc8b-ae385f341199"
      },
      "execution_count": 7,
      "outputs": [
        {
          "output_type": "execute_result",
          "data": {
            "text/plain": [
              "      Unnamed: 0   Income  Kidhome  Teenhome  Recency  MntWines  MntFruits  \\\n",
              "0              0  58138.0        0         0       58       635         88   \n",
              "1              1  46344.0        1         1       38        11          1   \n",
              "2              2  71613.0        0         0       26       426         49   \n",
              "3              3  26646.0        1         0       26        11          4   \n",
              "4              4  58293.0        1         0       94       173         43   \n",
              "...          ...      ...      ...       ...      ...       ...        ...   \n",
              "2200        2200  61223.0        0         1       46       709         43   \n",
              "2201        2201  64014.0        2         1       56       406          0   \n",
              "2202        2202  56981.0        0         0       91       908         48   \n",
              "2203        2203  69245.0        0         1        8       428         30   \n",
              "2204        2204  52869.0        1         1       40        84          3   \n",
              "\n",
              "      MntMeatProducts  MntFishProducts  MntSweetProducts  ...  \\\n",
              "0                 546              172                88  ...   \n",
              "1                   6                2                 1  ...   \n",
              "2                 127              111                21  ...   \n",
              "3                  20               10                 3  ...   \n",
              "4                 118               46                27  ...   \n",
              "...               ...              ...               ...  ...   \n",
              "2200              182               42               118  ...   \n",
              "2201               30                0                 0  ...   \n",
              "2202              217               32                12  ...   \n",
              "2203              214               80                30  ...   \n",
              "2204               61                2                 1  ...   \n",
              "\n",
              "      education_Graduation  education_Master  education_PhD  MntTotal  \\\n",
              "0                      3.0               NaN            NaN      1529   \n",
              "1                      3.0               NaN            NaN        21   \n",
              "2                      3.0               NaN            NaN       734   \n",
              "3                      3.0               NaN            NaN        48   \n",
              "4                      NaN               NaN            5.0       407   \n",
              "...                    ...               ...            ...       ...   \n",
              "2200                   3.0               NaN            NaN      1094   \n",
              "2201                   NaN               NaN            5.0       436   \n",
              "2202                   3.0               NaN            NaN      1217   \n",
              "2203                   NaN               4.0            NaN       782   \n",
              "2204                   NaN               NaN            5.0       151   \n",
              "\n",
              "      MntRegularProds  AcceptedCmpOverall  marital_status  education_level  \\\n",
              "0                1441                   0          Single       Graduation   \n",
              "1                  15                   0          Single       Graduation   \n",
              "2                 692                   0        Together       Graduation   \n",
              "3                  43                   0        Together       Graduation   \n",
              "4                 392                   0         Married              PhD   \n",
              "...               ...                 ...             ...              ...   \n",
              "2200              847                   0         Married       Graduation   \n",
              "2201              428                   1        Together              PhD   \n",
              "2202             1193                   1        Divorced       Graduation   \n",
              "2203              721                   0        Together           Master   \n",
              "2204              130                   0         Married              PhD   \n",
              "\n",
              "      kids  expenses  \n",
              "0        0      1529  \n",
              "1        2        21  \n",
              "2        0       734  \n",
              "3        1        48  \n",
              "4        1       407  \n",
              "...    ...       ...  \n",
              "2200     1      1094  \n",
              "2201     3       436  \n",
              "2202     0      1217  \n",
              "2203     1       782  \n",
              "2204     2       151  \n",
              "\n",
              "[2205 rows x 44 columns]"
            ],
            "text/html": [
              "\n",
              "  <div id=\"df-29062fbc-20ee-486e-94f7-9c94a46d4757\">\n",
              "    <div class=\"colab-df-container\">\n",
              "      <div>\n",
              "<style scoped>\n",
              "    .dataframe tbody tr th:only-of-type {\n",
              "        vertical-align: middle;\n",
              "    }\n",
              "\n",
              "    .dataframe tbody tr th {\n",
              "        vertical-align: top;\n",
              "    }\n",
              "\n",
              "    .dataframe thead th {\n",
              "        text-align: right;\n",
              "    }\n",
              "</style>\n",
              "<table border=\"1\" class=\"dataframe\">\n",
              "  <thead>\n",
              "    <tr style=\"text-align: right;\">\n",
              "      <th></th>\n",
              "      <th>Unnamed: 0</th>\n",
              "      <th>Income</th>\n",
              "      <th>Kidhome</th>\n",
              "      <th>Teenhome</th>\n",
              "      <th>Recency</th>\n",
              "      <th>MntWines</th>\n",
              "      <th>MntFruits</th>\n",
              "      <th>MntMeatProducts</th>\n",
              "      <th>MntFishProducts</th>\n",
              "      <th>MntSweetProducts</th>\n",
              "      <th>...</th>\n",
              "      <th>education_Graduation</th>\n",
              "      <th>education_Master</th>\n",
              "      <th>education_PhD</th>\n",
              "      <th>MntTotal</th>\n",
              "      <th>MntRegularProds</th>\n",
              "      <th>AcceptedCmpOverall</th>\n",
              "      <th>marital_status</th>\n",
              "      <th>education_level</th>\n",
              "      <th>kids</th>\n",
              "      <th>expenses</th>\n",
              "    </tr>\n",
              "  </thead>\n",
              "  <tbody>\n",
              "    <tr>\n",
              "      <th>0</th>\n",
              "      <td>0</td>\n",
              "      <td>58138.0</td>\n",
              "      <td>0</td>\n",
              "      <td>0</td>\n",
              "      <td>58</td>\n",
              "      <td>635</td>\n",
              "      <td>88</td>\n",
              "      <td>546</td>\n",
              "      <td>172</td>\n",
              "      <td>88</td>\n",
              "      <td>...</td>\n",
              "      <td>3.0</td>\n",
              "      <td>NaN</td>\n",
              "      <td>NaN</td>\n",
              "      <td>1529</td>\n",
              "      <td>1441</td>\n",
              "      <td>0</td>\n",
              "      <td>Single</td>\n",
              "      <td>Graduation</td>\n",
              "      <td>0</td>\n",
              "      <td>1529</td>\n",
              "    </tr>\n",
              "    <tr>\n",
              "      <th>1</th>\n",
              "      <td>1</td>\n",
              "      <td>46344.0</td>\n",
              "      <td>1</td>\n",
              "      <td>1</td>\n",
              "      <td>38</td>\n",
              "      <td>11</td>\n",
              "      <td>1</td>\n",
              "      <td>6</td>\n",
              "      <td>2</td>\n",
              "      <td>1</td>\n",
              "      <td>...</td>\n",
              "      <td>3.0</td>\n",
              "      <td>NaN</td>\n",
              "      <td>NaN</td>\n",
              "      <td>21</td>\n",
              "      <td>15</td>\n",
              "      <td>0</td>\n",
              "      <td>Single</td>\n",
              "      <td>Graduation</td>\n",
              "      <td>2</td>\n",
              "      <td>21</td>\n",
              "    </tr>\n",
              "    <tr>\n",
              "      <th>2</th>\n",
              "      <td>2</td>\n",
              "      <td>71613.0</td>\n",
              "      <td>0</td>\n",
              "      <td>0</td>\n",
              "      <td>26</td>\n",
              "      <td>426</td>\n",
              "      <td>49</td>\n",
              "      <td>127</td>\n",
              "      <td>111</td>\n",
              "      <td>21</td>\n",
              "      <td>...</td>\n",
              "      <td>3.0</td>\n",
              "      <td>NaN</td>\n",
              "      <td>NaN</td>\n",
              "      <td>734</td>\n",
              "      <td>692</td>\n",
              "      <td>0</td>\n",
              "      <td>Together</td>\n",
              "      <td>Graduation</td>\n",
              "      <td>0</td>\n",
              "      <td>734</td>\n",
              "    </tr>\n",
              "    <tr>\n",
              "      <th>3</th>\n",
              "      <td>3</td>\n",
              "      <td>26646.0</td>\n",
              "      <td>1</td>\n",
              "      <td>0</td>\n",
              "      <td>26</td>\n",
              "      <td>11</td>\n",
              "      <td>4</td>\n",
              "      <td>20</td>\n",
              "      <td>10</td>\n",
              "      <td>3</td>\n",
              "      <td>...</td>\n",
              "      <td>3.0</td>\n",
              "      <td>NaN</td>\n",
              "      <td>NaN</td>\n",
              "      <td>48</td>\n",
              "      <td>43</td>\n",
              "      <td>0</td>\n",
              "      <td>Together</td>\n",
              "      <td>Graduation</td>\n",
              "      <td>1</td>\n",
              "      <td>48</td>\n",
              "    </tr>\n",
              "    <tr>\n",
              "      <th>4</th>\n",
              "      <td>4</td>\n",
              "      <td>58293.0</td>\n",
              "      <td>1</td>\n",
              "      <td>0</td>\n",
              "      <td>94</td>\n",
              "      <td>173</td>\n",
              "      <td>43</td>\n",
              "      <td>118</td>\n",
              "      <td>46</td>\n",
              "      <td>27</td>\n",
              "      <td>...</td>\n",
              "      <td>NaN</td>\n",
              "      <td>NaN</td>\n",
              "      <td>5.0</td>\n",
              "      <td>407</td>\n",
              "      <td>392</td>\n",
              "      <td>0</td>\n",
              "      <td>Married</td>\n",
              "      <td>PhD</td>\n",
              "      <td>1</td>\n",
              "      <td>407</td>\n",
              "    </tr>\n",
              "    <tr>\n",
              "      <th>...</th>\n",
              "      <td>...</td>\n",
              "      <td>...</td>\n",
              "      <td>...</td>\n",
              "      <td>...</td>\n",
              "      <td>...</td>\n",
              "      <td>...</td>\n",
              "      <td>...</td>\n",
              "      <td>...</td>\n",
              "      <td>...</td>\n",
              "      <td>...</td>\n",
              "      <td>...</td>\n",
              "      <td>...</td>\n",
              "      <td>...</td>\n",
              "      <td>...</td>\n",
              "      <td>...</td>\n",
              "      <td>...</td>\n",
              "      <td>...</td>\n",
              "      <td>...</td>\n",
              "      <td>...</td>\n",
              "      <td>...</td>\n",
              "      <td>...</td>\n",
              "    </tr>\n",
              "    <tr>\n",
              "      <th>2200</th>\n",
              "      <td>2200</td>\n",
              "      <td>61223.0</td>\n",
              "      <td>0</td>\n",
              "      <td>1</td>\n",
              "      <td>46</td>\n",
              "      <td>709</td>\n",
              "      <td>43</td>\n",
              "      <td>182</td>\n",
              "      <td>42</td>\n",
              "      <td>118</td>\n",
              "      <td>...</td>\n",
              "      <td>3.0</td>\n",
              "      <td>NaN</td>\n",
              "      <td>NaN</td>\n",
              "      <td>1094</td>\n",
              "      <td>847</td>\n",
              "      <td>0</td>\n",
              "      <td>Married</td>\n",
              "      <td>Graduation</td>\n",
              "      <td>1</td>\n",
              "      <td>1094</td>\n",
              "    </tr>\n",
              "    <tr>\n",
              "      <th>2201</th>\n",
              "      <td>2201</td>\n",
              "      <td>64014.0</td>\n",
              "      <td>2</td>\n",
              "      <td>1</td>\n",
              "      <td>56</td>\n",
              "      <td>406</td>\n",
              "      <td>0</td>\n",
              "      <td>30</td>\n",
              "      <td>0</td>\n",
              "      <td>0</td>\n",
              "      <td>...</td>\n",
              "      <td>NaN</td>\n",
              "      <td>NaN</td>\n",
              "      <td>5.0</td>\n",
              "      <td>436</td>\n",
              "      <td>428</td>\n",
              "      <td>1</td>\n",
              "      <td>Together</td>\n",
              "      <td>PhD</td>\n",
              "      <td>3</td>\n",
              "      <td>436</td>\n",
              "    </tr>\n",
              "    <tr>\n",
              "      <th>2202</th>\n",
              "      <td>2202</td>\n",
              "      <td>56981.0</td>\n",
              "      <td>0</td>\n",
              "      <td>0</td>\n",
              "      <td>91</td>\n",
              "      <td>908</td>\n",
              "      <td>48</td>\n",
              "      <td>217</td>\n",
              "      <td>32</td>\n",
              "      <td>12</td>\n",
              "      <td>...</td>\n",
              "      <td>3.0</td>\n",
              "      <td>NaN</td>\n",
              "      <td>NaN</td>\n",
              "      <td>1217</td>\n",
              "      <td>1193</td>\n",
              "      <td>1</td>\n",
              "      <td>Divorced</td>\n",
              "      <td>Graduation</td>\n",
              "      <td>0</td>\n",
              "      <td>1217</td>\n",
              "    </tr>\n",
              "    <tr>\n",
              "      <th>2203</th>\n",
              "      <td>2203</td>\n",
              "      <td>69245.0</td>\n",
              "      <td>0</td>\n",
              "      <td>1</td>\n",
              "      <td>8</td>\n",
              "      <td>428</td>\n",
              "      <td>30</td>\n",
              "      <td>214</td>\n",
              "      <td>80</td>\n",
              "      <td>30</td>\n",
              "      <td>...</td>\n",
              "      <td>NaN</td>\n",
              "      <td>4.0</td>\n",
              "      <td>NaN</td>\n",
              "      <td>782</td>\n",
              "      <td>721</td>\n",
              "      <td>0</td>\n",
              "      <td>Together</td>\n",
              "      <td>Master</td>\n",
              "      <td>1</td>\n",
              "      <td>782</td>\n",
              "    </tr>\n",
              "    <tr>\n",
              "      <th>2204</th>\n",
              "      <td>2204</td>\n",
              "      <td>52869.0</td>\n",
              "      <td>1</td>\n",
              "      <td>1</td>\n",
              "      <td>40</td>\n",
              "      <td>84</td>\n",
              "      <td>3</td>\n",
              "      <td>61</td>\n",
              "      <td>2</td>\n",
              "      <td>1</td>\n",
              "      <td>...</td>\n",
              "      <td>NaN</td>\n",
              "      <td>NaN</td>\n",
              "      <td>5.0</td>\n",
              "      <td>151</td>\n",
              "      <td>130</td>\n",
              "      <td>0</td>\n",
              "      <td>Married</td>\n",
              "      <td>PhD</td>\n",
              "      <td>2</td>\n",
              "      <td>151</td>\n",
              "    </tr>\n",
              "  </tbody>\n",
              "</table>\n",
              "<p>2205 rows × 44 columns</p>\n",
              "</div>\n",
              "      <button class=\"colab-df-convert\" onclick=\"convertToInteractive('df-29062fbc-20ee-486e-94f7-9c94a46d4757')\"\n",
              "              title=\"Convert this dataframe to an interactive table.\"\n",
              "              style=\"display:none;\">\n",
              "        \n",
              "  <svg xmlns=\"http://www.w3.org/2000/svg\" height=\"24px\"viewBox=\"0 0 24 24\"\n",
              "       width=\"24px\">\n",
              "    <path d=\"M0 0h24v24H0V0z\" fill=\"none\"/>\n",
              "    <path d=\"M18.56 5.44l.94 2.06.94-2.06 2.06-.94-2.06-.94-.94-2.06-.94 2.06-2.06.94zm-11 1L8.5 8.5l.94-2.06 2.06-.94-2.06-.94L8.5 2.5l-.94 2.06-2.06.94zm10 10l.94 2.06.94-2.06 2.06-.94-2.06-.94-.94-2.06-.94 2.06-2.06.94z\"/><path d=\"M17.41 7.96l-1.37-1.37c-.4-.4-.92-.59-1.43-.59-.52 0-1.04.2-1.43.59L10.3 9.45l-7.72 7.72c-.78.78-.78 2.05 0 2.83L4 21.41c.39.39.9.59 1.41.59.51 0 1.02-.2 1.41-.59l7.78-7.78 2.81-2.81c.8-.78.8-2.07 0-2.86zM5.41 20L4 18.59l7.72-7.72 1.47 1.35L5.41 20z\"/>\n",
              "  </svg>\n",
              "      </button>\n",
              "      \n",
              "  <style>\n",
              "    .colab-df-container {\n",
              "      display:flex;\n",
              "      flex-wrap:wrap;\n",
              "      gap: 12px;\n",
              "    }\n",
              "\n",
              "    .colab-df-convert {\n",
              "      background-color: #E8F0FE;\n",
              "      border: none;\n",
              "      border-radius: 50%;\n",
              "      cursor: pointer;\n",
              "      display: none;\n",
              "      fill: #1967D2;\n",
              "      height: 32px;\n",
              "      padding: 0 0 0 0;\n",
              "      width: 32px;\n",
              "    }\n",
              "\n",
              "    .colab-df-convert:hover {\n",
              "      background-color: #E2EBFA;\n",
              "      box-shadow: 0px 1px 2px rgba(60, 64, 67, 0.3), 0px 1px 3px 1px rgba(60, 64, 67, 0.15);\n",
              "      fill: #174EA6;\n",
              "    }\n",
              "\n",
              "    [theme=dark] .colab-df-convert {\n",
              "      background-color: #3B4455;\n",
              "      fill: #D2E3FC;\n",
              "    }\n",
              "\n",
              "    [theme=dark] .colab-df-convert:hover {\n",
              "      background-color: #434B5C;\n",
              "      box-shadow: 0px 1px 3px 1px rgba(0, 0, 0, 0.15);\n",
              "      filter: drop-shadow(0px 1px 2px rgba(0, 0, 0, 0.3));\n",
              "      fill: #FFFFFF;\n",
              "    }\n",
              "  </style>\n",
              "\n",
              "      <script>\n",
              "        const buttonEl =\n",
              "          document.querySelector('#df-29062fbc-20ee-486e-94f7-9c94a46d4757 button.colab-df-convert');\n",
              "        buttonEl.style.display =\n",
              "          google.colab.kernel.accessAllowed ? 'block' : 'none';\n",
              "\n",
              "        async function convertToInteractive(key) {\n",
              "          const element = document.querySelector('#df-29062fbc-20ee-486e-94f7-9c94a46d4757');\n",
              "          const dataTable =\n",
              "            await google.colab.kernel.invokeFunction('convertToInteractive',\n",
              "                                                     [key], {});\n",
              "          if (!dataTable) return;\n",
              "\n",
              "          const docLinkHtml = 'Like what you see? Visit the ' +\n",
              "            '<a target=\"_blank\" href=https://colab.research.google.com/notebooks/data_table.ipynb>data table notebook</a>'\n",
              "            + ' to learn more about interactive tables.';\n",
              "          element.innerHTML = '';\n",
              "          dataTable['output_type'] = 'display_data';\n",
              "          await google.colab.output.renderOutput(dataTable, element);\n",
              "          const docLink = document.createElement('div');\n",
              "          docLink.innerHTML = docLinkHtml;\n",
              "          element.appendChild(docLink);\n",
              "        }\n",
              "      </script>\n",
              "    </div>\n",
              "  </div>\n",
              "  "
            ]
          },
          "metadata": {},
          "execution_count": 7
        }
      ]
    },
    {
      "cell_type": "markdown",
      "source": [
        "##**ANÁLISE EXPLORATÓRIA**"
      ],
      "metadata": {
        "id": "XNT717h019w3"
      }
    },
    {
      "cell_type": "markdown",
      "source": [
        "###**Quantos dados temos? Linhas e colunas**"
      ],
      "metadata": {
        "id": "HVSqgoK91LQl"
      }
    },
    {
      "cell_type": "code",
      "source": [
        "#verificar total de linhas e colunas\n",
        "df.shape"
      ],
      "metadata": {
        "colab": {
          "base_uri": "https://localhost:8080/"
        },
        "id": "9jAgnjw8tFkW",
        "outputId": "421aa922-3ccc-4037-cc35-f01805277d13"
      },
      "execution_count": 8,
      "outputs": [
        {
          "output_type": "execute_result",
          "data": {
            "text/plain": [
              "(2205, 44)"
            ]
          },
          "metadata": {},
          "execution_count": 8
        }
      ]
    },
    {
      "cell_type": "code",
      "source": [
        "#verificar total de dados detalhado\n",
        "df.info()"
      ],
      "metadata": {
        "colab": {
          "base_uri": "https://localhost:8080/"
        },
        "id": "5zkrWR3ltMLG",
        "outputId": "89c80ac6-9c6b-4e4b-b4cf-ec0c73f0a512"
      },
      "execution_count": 9,
      "outputs": [
        {
          "output_type": "stream",
          "name": "stdout",
          "text": [
            "<class 'pandas.core.frame.DataFrame'>\n",
            "RangeIndex: 2205 entries, 0 to 2204\n",
            "Data columns (total 44 columns):\n",
            " #   Column                Non-Null Count  Dtype  \n",
            "---  ------                --------------  -----  \n",
            " 0   Unnamed: 0            2205 non-null   int64  \n",
            " 1   Income                2205 non-null   float64\n",
            " 2   Kidhome               2205 non-null   int64  \n",
            " 3   Teenhome              2205 non-null   int64  \n",
            " 4   Recency               2205 non-null   int64  \n",
            " 5   MntWines              2205 non-null   int64  \n",
            " 6   MntFruits             2205 non-null   int64  \n",
            " 7   MntMeatProducts       2205 non-null   int64  \n",
            " 8   MntFishProducts       2205 non-null   int64  \n",
            " 9   MntSweetProducts      2205 non-null   int64  \n",
            " 10  MntGoldProds          2205 non-null   int64  \n",
            " 11  NumDealsPurchases     2205 non-null   int64  \n",
            " 12  NumWebPurchases       2205 non-null   int64  \n",
            " 13  NumCatalogPurchases   2205 non-null   int64  \n",
            " 14  NumStorePurchases     2205 non-null   int64  \n",
            " 15  NumWebVisitsMonth     2205 non-null   int64  \n",
            " 16  AcceptedCmp3          2205 non-null   int64  \n",
            " 17  AcceptedCmp4          2205 non-null   int64  \n",
            " 18  AcceptedCmp5          2205 non-null   int64  \n",
            " 19  AcceptedCmp1          2205 non-null   int64  \n",
            " 20  AcceptedCmp2          2205 non-null   int64  \n",
            " 21  Complain              2205 non-null   int64  \n",
            " 22  Z_CostContact         2205 non-null   int64  \n",
            " 23  Z_Revenue             2205 non-null   int64  \n",
            " 24  Response              2205 non-null   int64  \n",
            " 25  Age                   2205 non-null   int64  \n",
            " 26  Customer_Days         2205 non-null   int64  \n",
            " 27  marital_Divorced      230 non-null    float64\n",
            " 28  marital_Married       854 non-null    float64\n",
            " 29  marital_Single        477 non-null    float64\n",
            " 30  marital_Together      568 non-null    float64\n",
            " 31  marital_Widow         76 non-null     float64\n",
            " 32  education_2n Cycle    198 non-null    float64\n",
            " 33  education_Basic       54 non-null     float64\n",
            " 34  education_Graduation  1113 non-null   float64\n",
            " 35  education_Master      364 non-null    float64\n",
            " 36  education_PhD         476 non-null    float64\n",
            " 37  MntTotal              2205 non-null   int64  \n",
            " 38  MntRegularProds       2205 non-null   int64  \n",
            " 39  AcceptedCmpOverall    2205 non-null   int64  \n",
            " 40  marital_status        2205 non-null   object \n",
            " 41  education_level       2205 non-null   object \n",
            " 42  kids                  2205 non-null   int64  \n",
            " 43  expenses              2205 non-null   int64  \n",
            "dtypes: float64(11), int64(31), object(2)\n",
            "memory usage: 758.1+ KB\n"
          ]
        }
      ]
    },
    {
      "cell_type": "markdown",
      "source": [
        "###**Quais são as colunas numéricas?**"
      ],
      "metadata": {
        "id": "q7vyyYBD1qG3"
      }
    },
    {
      "cell_type": "code",
      "source": [
        "#encontrar colunas numéricas\n",
        "df.select_dtypes(include='number').head()"
      ],
      "metadata": {
        "colab": {
          "base_uri": "https://localhost:8080/",
          "height": 317
        },
        "id": "SbN92CPsx-ce",
        "outputId": "1ff88592-da2c-44cb-ea27-3ba8766d15b4"
      },
      "execution_count": 10,
      "outputs": [
        {
          "output_type": "execute_result",
          "data": {
            "text/plain": [
              "   Unnamed: 0   Income  Kidhome  Teenhome  Recency  MntWines  MntFruits  \\\n",
              "0           0  58138.0        0         0       58       635         88   \n",
              "1           1  46344.0        1         1       38        11          1   \n",
              "2           2  71613.0        0         0       26       426         49   \n",
              "3           3  26646.0        1         0       26        11          4   \n",
              "4           4  58293.0        1         0       94       173         43   \n",
              "\n",
              "   MntMeatProducts  MntFishProducts  MntSweetProducts  ...  \\\n",
              "0              546              172                88  ...   \n",
              "1                6                2                 1  ...   \n",
              "2              127              111                21  ...   \n",
              "3               20               10                 3  ...   \n",
              "4              118               46                27  ...   \n",
              "\n",
              "   education_2n Cycle  education_Basic  education_Graduation  \\\n",
              "0                 NaN              NaN                   3.0   \n",
              "1                 NaN              NaN                   3.0   \n",
              "2                 NaN              NaN                   3.0   \n",
              "3                 NaN              NaN                   3.0   \n",
              "4                 NaN              NaN                   NaN   \n",
              "\n",
              "   education_Master  education_PhD  MntTotal  MntRegularProds  \\\n",
              "0               NaN            NaN      1529             1441   \n",
              "1               NaN            NaN        21               15   \n",
              "2               NaN            NaN       734              692   \n",
              "3               NaN            NaN        48               43   \n",
              "4               NaN            5.0       407              392   \n",
              "\n",
              "   AcceptedCmpOverall  kids  expenses  \n",
              "0                   0     0      1529  \n",
              "1                   0     2        21  \n",
              "2                   0     0       734  \n",
              "3                   0     1        48  \n",
              "4                   0     1       407  \n",
              "\n",
              "[5 rows x 42 columns]"
            ],
            "text/html": [
              "\n",
              "  <div id=\"df-a6aaf5bb-840d-4e65-ac58-d761d28f387d\">\n",
              "    <div class=\"colab-df-container\">\n",
              "      <div>\n",
              "<style scoped>\n",
              "    .dataframe tbody tr th:only-of-type {\n",
              "        vertical-align: middle;\n",
              "    }\n",
              "\n",
              "    .dataframe tbody tr th {\n",
              "        vertical-align: top;\n",
              "    }\n",
              "\n",
              "    .dataframe thead th {\n",
              "        text-align: right;\n",
              "    }\n",
              "</style>\n",
              "<table border=\"1\" class=\"dataframe\">\n",
              "  <thead>\n",
              "    <tr style=\"text-align: right;\">\n",
              "      <th></th>\n",
              "      <th>Unnamed: 0</th>\n",
              "      <th>Income</th>\n",
              "      <th>Kidhome</th>\n",
              "      <th>Teenhome</th>\n",
              "      <th>Recency</th>\n",
              "      <th>MntWines</th>\n",
              "      <th>MntFruits</th>\n",
              "      <th>MntMeatProducts</th>\n",
              "      <th>MntFishProducts</th>\n",
              "      <th>MntSweetProducts</th>\n",
              "      <th>...</th>\n",
              "      <th>education_2n Cycle</th>\n",
              "      <th>education_Basic</th>\n",
              "      <th>education_Graduation</th>\n",
              "      <th>education_Master</th>\n",
              "      <th>education_PhD</th>\n",
              "      <th>MntTotal</th>\n",
              "      <th>MntRegularProds</th>\n",
              "      <th>AcceptedCmpOverall</th>\n",
              "      <th>kids</th>\n",
              "      <th>expenses</th>\n",
              "    </tr>\n",
              "  </thead>\n",
              "  <tbody>\n",
              "    <tr>\n",
              "      <th>0</th>\n",
              "      <td>0</td>\n",
              "      <td>58138.0</td>\n",
              "      <td>0</td>\n",
              "      <td>0</td>\n",
              "      <td>58</td>\n",
              "      <td>635</td>\n",
              "      <td>88</td>\n",
              "      <td>546</td>\n",
              "      <td>172</td>\n",
              "      <td>88</td>\n",
              "      <td>...</td>\n",
              "      <td>NaN</td>\n",
              "      <td>NaN</td>\n",
              "      <td>3.0</td>\n",
              "      <td>NaN</td>\n",
              "      <td>NaN</td>\n",
              "      <td>1529</td>\n",
              "      <td>1441</td>\n",
              "      <td>0</td>\n",
              "      <td>0</td>\n",
              "      <td>1529</td>\n",
              "    </tr>\n",
              "    <tr>\n",
              "      <th>1</th>\n",
              "      <td>1</td>\n",
              "      <td>46344.0</td>\n",
              "      <td>1</td>\n",
              "      <td>1</td>\n",
              "      <td>38</td>\n",
              "      <td>11</td>\n",
              "      <td>1</td>\n",
              "      <td>6</td>\n",
              "      <td>2</td>\n",
              "      <td>1</td>\n",
              "      <td>...</td>\n",
              "      <td>NaN</td>\n",
              "      <td>NaN</td>\n",
              "      <td>3.0</td>\n",
              "      <td>NaN</td>\n",
              "      <td>NaN</td>\n",
              "      <td>21</td>\n",
              "      <td>15</td>\n",
              "      <td>0</td>\n",
              "      <td>2</td>\n",
              "      <td>21</td>\n",
              "    </tr>\n",
              "    <tr>\n",
              "      <th>2</th>\n",
              "      <td>2</td>\n",
              "      <td>71613.0</td>\n",
              "      <td>0</td>\n",
              "      <td>0</td>\n",
              "      <td>26</td>\n",
              "      <td>426</td>\n",
              "      <td>49</td>\n",
              "      <td>127</td>\n",
              "      <td>111</td>\n",
              "      <td>21</td>\n",
              "      <td>...</td>\n",
              "      <td>NaN</td>\n",
              "      <td>NaN</td>\n",
              "      <td>3.0</td>\n",
              "      <td>NaN</td>\n",
              "      <td>NaN</td>\n",
              "      <td>734</td>\n",
              "      <td>692</td>\n",
              "      <td>0</td>\n",
              "      <td>0</td>\n",
              "      <td>734</td>\n",
              "    </tr>\n",
              "    <tr>\n",
              "      <th>3</th>\n",
              "      <td>3</td>\n",
              "      <td>26646.0</td>\n",
              "      <td>1</td>\n",
              "      <td>0</td>\n",
              "      <td>26</td>\n",
              "      <td>11</td>\n",
              "      <td>4</td>\n",
              "      <td>20</td>\n",
              "      <td>10</td>\n",
              "      <td>3</td>\n",
              "      <td>...</td>\n",
              "      <td>NaN</td>\n",
              "      <td>NaN</td>\n",
              "      <td>3.0</td>\n",
              "      <td>NaN</td>\n",
              "      <td>NaN</td>\n",
              "      <td>48</td>\n",
              "      <td>43</td>\n",
              "      <td>0</td>\n",
              "      <td>1</td>\n",
              "      <td>48</td>\n",
              "    </tr>\n",
              "    <tr>\n",
              "      <th>4</th>\n",
              "      <td>4</td>\n",
              "      <td>58293.0</td>\n",
              "      <td>1</td>\n",
              "      <td>0</td>\n",
              "      <td>94</td>\n",
              "      <td>173</td>\n",
              "      <td>43</td>\n",
              "      <td>118</td>\n",
              "      <td>46</td>\n",
              "      <td>27</td>\n",
              "      <td>...</td>\n",
              "      <td>NaN</td>\n",
              "      <td>NaN</td>\n",
              "      <td>NaN</td>\n",
              "      <td>NaN</td>\n",
              "      <td>5.0</td>\n",
              "      <td>407</td>\n",
              "      <td>392</td>\n",
              "      <td>0</td>\n",
              "      <td>1</td>\n",
              "      <td>407</td>\n",
              "    </tr>\n",
              "  </tbody>\n",
              "</table>\n",
              "<p>5 rows × 42 columns</p>\n",
              "</div>\n",
              "      <button class=\"colab-df-convert\" onclick=\"convertToInteractive('df-a6aaf5bb-840d-4e65-ac58-d761d28f387d')\"\n",
              "              title=\"Convert this dataframe to an interactive table.\"\n",
              "              style=\"display:none;\">\n",
              "        \n",
              "  <svg xmlns=\"http://www.w3.org/2000/svg\" height=\"24px\"viewBox=\"0 0 24 24\"\n",
              "       width=\"24px\">\n",
              "    <path d=\"M0 0h24v24H0V0z\" fill=\"none\"/>\n",
              "    <path d=\"M18.56 5.44l.94 2.06.94-2.06 2.06-.94-2.06-.94-.94-2.06-.94 2.06-2.06.94zm-11 1L8.5 8.5l.94-2.06 2.06-.94-2.06-.94L8.5 2.5l-.94 2.06-2.06.94zm10 10l.94 2.06.94-2.06 2.06-.94-2.06-.94-.94-2.06-.94 2.06-2.06.94z\"/><path d=\"M17.41 7.96l-1.37-1.37c-.4-.4-.92-.59-1.43-.59-.52 0-1.04.2-1.43.59L10.3 9.45l-7.72 7.72c-.78.78-.78 2.05 0 2.83L4 21.41c.39.39.9.59 1.41.59.51 0 1.02-.2 1.41-.59l7.78-7.78 2.81-2.81c.8-.78.8-2.07 0-2.86zM5.41 20L4 18.59l7.72-7.72 1.47 1.35L5.41 20z\"/>\n",
              "  </svg>\n",
              "      </button>\n",
              "      \n",
              "  <style>\n",
              "    .colab-df-container {\n",
              "      display:flex;\n",
              "      flex-wrap:wrap;\n",
              "      gap: 12px;\n",
              "    }\n",
              "\n",
              "    .colab-df-convert {\n",
              "      background-color: #E8F0FE;\n",
              "      border: none;\n",
              "      border-radius: 50%;\n",
              "      cursor: pointer;\n",
              "      display: none;\n",
              "      fill: #1967D2;\n",
              "      height: 32px;\n",
              "      padding: 0 0 0 0;\n",
              "      width: 32px;\n",
              "    }\n",
              "\n",
              "    .colab-df-convert:hover {\n",
              "      background-color: #E2EBFA;\n",
              "      box-shadow: 0px 1px 2px rgba(60, 64, 67, 0.3), 0px 1px 3px 1px rgba(60, 64, 67, 0.15);\n",
              "      fill: #174EA6;\n",
              "    }\n",
              "\n",
              "    [theme=dark] .colab-df-convert {\n",
              "      background-color: #3B4455;\n",
              "      fill: #D2E3FC;\n",
              "    }\n",
              "\n",
              "    [theme=dark] .colab-df-convert:hover {\n",
              "      background-color: #434B5C;\n",
              "      box-shadow: 0px 1px 3px 1px rgba(0, 0, 0, 0.15);\n",
              "      filter: drop-shadow(0px 1px 2px rgba(0, 0, 0, 0.3));\n",
              "      fill: #FFFFFF;\n",
              "    }\n",
              "  </style>\n",
              "\n",
              "      <script>\n",
              "        const buttonEl =\n",
              "          document.querySelector('#df-a6aaf5bb-840d-4e65-ac58-d761d28f387d button.colab-df-convert');\n",
              "        buttonEl.style.display =\n",
              "          google.colab.kernel.accessAllowed ? 'block' : 'none';\n",
              "\n",
              "        async function convertToInteractive(key) {\n",
              "          const element = document.querySelector('#df-a6aaf5bb-840d-4e65-ac58-d761d28f387d');\n",
              "          const dataTable =\n",
              "            await google.colab.kernel.invokeFunction('convertToInteractive',\n",
              "                                                     [key], {});\n",
              "          if (!dataTable) return;\n",
              "\n",
              "          const docLinkHtml = 'Like what you see? Visit the ' +\n",
              "            '<a target=\"_blank\" href=https://colab.research.google.com/notebooks/data_table.ipynb>data table notebook</a>'\n",
              "            + ' to learn more about interactive tables.';\n",
              "          element.innerHTML = '';\n",
              "          dataTable['output_type'] = 'display_data';\n",
              "          await google.colab.output.renderOutput(dataTable, element);\n",
              "          const docLink = document.createElement('div');\n",
              "          docLink.innerHTML = docLinkHtml;\n",
              "          element.appendChild(docLink);\n",
              "        }\n",
              "      </script>\n",
              "    </div>\n",
              "  </div>\n",
              "  "
            ]
          },
          "metadata": {},
          "execution_count": 10
        }
      ]
    },
    {
      "cell_type": "code",
      "source": [
        "#nome das colunas numéricas\n",
        "df.select_dtypes(include='number').columns"
      ],
      "metadata": {
        "colab": {
          "base_uri": "https://localhost:8080/"
        },
        "id": "F-mRIyd7BfQq",
        "outputId": "5e05fe79-2535-42f3-f94e-ae7ae2b1a1da"
      },
      "execution_count": 11,
      "outputs": [
        {
          "output_type": "execute_result",
          "data": {
            "text/plain": [
              "Index(['Unnamed: 0', 'Income', 'Kidhome', 'Teenhome', 'Recency', 'MntWines',\n",
              "       'MntFruits', 'MntMeatProducts', 'MntFishProducts', 'MntSweetProducts',\n",
              "       'MntGoldProds', 'NumDealsPurchases', 'NumWebPurchases',\n",
              "       'NumCatalogPurchases', 'NumStorePurchases', 'NumWebVisitsMonth',\n",
              "       'AcceptedCmp3', 'AcceptedCmp4', 'AcceptedCmp5', 'AcceptedCmp1',\n",
              "       'AcceptedCmp2', 'Complain', 'Z_CostContact', 'Z_Revenue', 'Response',\n",
              "       'Age', 'Customer_Days', 'marital_Divorced', 'marital_Married',\n",
              "       'marital_Single', 'marital_Together', 'marital_Widow',\n",
              "       'education_2n Cycle', 'education_Basic', 'education_Graduation',\n",
              "       'education_Master', 'education_PhD', 'MntTotal', 'MntRegularProds',\n",
              "       'AcceptedCmpOverall', 'kids', 'expenses'],\n",
              "      dtype='object')"
            ]
          },
          "metadata": {},
          "execution_count": 11
        }
      ]
    },
    {
      "cell_type": "markdown",
      "source": [
        "###**Temos duplicados na nossa base? Se tivermos, retire-os**"
      ],
      "metadata": {
        "id": "SUoWkhK71y5Z"
      }
    },
    {
      "cell_type": "code",
      "source": [
        "#encontrar duplicados\n",
        "df.duplicated().sum()"
      ],
      "metadata": {
        "colab": {
          "base_uri": "https://localhost:8080/"
        },
        "id": "q5mGsp2D04w2",
        "outputId": "e3bed442-4ae9-49f4-ad51-f592553dcdc8"
      },
      "execution_count": 12,
      "outputs": [
        {
          "output_type": "execute_result",
          "data": {
            "text/plain": [
              "0"
            ]
          },
          "metadata": {},
          "execution_count": 12
        }
      ]
    },
    {
      "cell_type": "markdown",
      "source": [
        "###**Temos dados nulos nessa base? Será que eles indicam algo? O que fazer com eles?**"
      ],
      "metadata": {
        "id": "OuhWDyit12En"
      }
    },
    {
      "cell_type": "code",
      "source": [
        "#encontrar dados nulos\n",
        "df.isnull().sum()"
      ],
      "metadata": {
        "colab": {
          "base_uri": "https://localhost:8080/"
        },
        "id": "QOYl18CAzYE6",
        "outputId": "aa672977-c96d-49c7-e5ae-6aad32106cb7"
      },
      "execution_count": 13,
      "outputs": [
        {
          "output_type": "execute_result",
          "data": {
            "text/plain": [
              "Unnamed: 0                 0\n",
              "Income                     0\n",
              "Kidhome                    0\n",
              "Teenhome                   0\n",
              "Recency                    0\n",
              "MntWines                   0\n",
              "MntFruits                  0\n",
              "MntMeatProducts            0\n",
              "MntFishProducts            0\n",
              "MntSweetProducts           0\n",
              "MntGoldProds               0\n",
              "NumDealsPurchases          0\n",
              "NumWebPurchases            0\n",
              "NumCatalogPurchases        0\n",
              "NumStorePurchases          0\n",
              "NumWebVisitsMonth          0\n",
              "AcceptedCmp3               0\n",
              "AcceptedCmp4               0\n",
              "AcceptedCmp5               0\n",
              "AcceptedCmp1               0\n",
              "AcceptedCmp2               0\n",
              "Complain                   0\n",
              "Z_CostContact              0\n",
              "Z_Revenue                  0\n",
              "Response                   0\n",
              "Age                        0\n",
              "Customer_Days              0\n",
              "marital_Divorced        1975\n",
              "marital_Married         1351\n",
              "marital_Single          1728\n",
              "marital_Together        1637\n",
              "marital_Widow           2129\n",
              "education_2n Cycle      2007\n",
              "education_Basic         2151\n",
              "education_Graduation    1092\n",
              "education_Master        1841\n",
              "education_PhD           1729\n",
              "MntTotal                   0\n",
              "MntRegularProds            0\n",
              "AcceptedCmpOverall         0\n",
              "marital_status             0\n",
              "education_level            0\n",
              "kids                       0\n",
              "expenses                   0\n",
              "dtype: int64"
            ]
          },
          "metadata": {},
          "execution_count": 13
        }
      ]
    },
    {
      "cell_type": "code",
      "source": [
        "#contar ocorrências na coluna marital_Divorced\n",
        "df[\"marital_Divorced\"].value_counts()"
      ],
      "metadata": {
        "colab": {
          "base_uri": "https://localhost:8080/"
        },
        "id": "8bf6A2OWzihn",
        "outputId": "1fb98ebc-d08b-45a0-b960-55804034f2dd"
      },
      "execution_count": 14,
      "outputs": [
        {
          "output_type": "execute_result",
          "data": {
            "text/plain": [
              "1.0    230\n",
              "Name: marital_Divorced, dtype: int64"
            ]
          },
          "metadata": {},
          "execution_count": 14
        }
      ]
    },
    {
      "cell_type": "markdown",
      "source": [
        "Só existem 230 ocorrências do número 1.0 e o restante é nulo. Pode indicar que o nulo significa que a pessoa não tem essa determinada feature.\n",
        "\n",
        "Uma das soluções: tornar essas colunas em booleano (1 se fez e 0 se não fez = nulo)"
      ],
      "metadata": {
        "id": "Cya6DmEV27mG"
      }
    },
    {
      "cell_type": "code",
      "source": [
        "colunas_com_nulos = [\"marital_Divorced\", \"marital_Married\", \"marital_Single\", \"marital_Together\", \"marital_Widow\", \"education_2n Cycle\", \"education_Basic\", \"education_Graduation\", \"education_Master\", \"education_PhD\"]"
      ],
      "metadata": {
        "id": "9i47Mq1h3R1o"
      },
      "execution_count": 15,
      "outputs": []
    },
    {
      "cell_type": "code",
      "source": [
        "#criar colunas booleanas para as colunas_com_nulos\n",
        "for item in colunas_com_nulos:\n",
        "  df[\"booleano\"+str(item)] = np.where(df[item].isnull(), 0, 1) \n",
        "\n",
        "#ou seja, para \"item\" cada coluna de \"colunas_com_nulos\", df[\"booleano\"+str(item)] -> criação da coluna onde o nome será booleano + coluna\n",
        "#np.where(df[item].isnull(), 0,1) onde a coluna possua nulos, substituir por 0 se verdadeiro, e 1 falso"
      ],
      "metadata": {
        "id": "8MPNE4Dz4Fwa"
      },
      "execution_count": 16,
      "outputs": []
    },
    {
      "cell_type": "code",
      "source": [
        "df"
      ],
      "metadata": {
        "colab": {
          "base_uri": "https://localhost:8080/",
          "height": 505
        },
        "id": "2_2kOMnZ45Bo",
        "outputId": "7aa66e8e-c200-492e-f4fe-20d85c7051bc"
      },
      "execution_count": 17,
      "outputs": [
        {
          "output_type": "execute_result",
          "data": {
            "text/plain": [
              "      Unnamed: 0   Income  Kidhome  Teenhome  Recency  MntWines  MntFruits  \\\n",
              "0              0  58138.0        0         0       58       635         88   \n",
              "1              1  46344.0        1         1       38        11          1   \n",
              "2              2  71613.0        0         0       26       426         49   \n",
              "3              3  26646.0        1         0       26        11          4   \n",
              "4              4  58293.0        1         0       94       173         43   \n",
              "...          ...      ...      ...       ...      ...       ...        ...   \n",
              "2200        2200  61223.0        0         1       46       709         43   \n",
              "2201        2201  64014.0        2         1       56       406          0   \n",
              "2202        2202  56981.0        0         0       91       908         48   \n",
              "2203        2203  69245.0        0         1        8       428         30   \n",
              "2204        2204  52869.0        1         1       40        84          3   \n",
              "\n",
              "      MntMeatProducts  MntFishProducts  MntSweetProducts  ...  \\\n",
              "0                 546              172                88  ...   \n",
              "1                   6                2                 1  ...   \n",
              "2                 127              111                21  ...   \n",
              "3                  20               10                 3  ...   \n",
              "4                 118               46                27  ...   \n",
              "...               ...              ...               ...  ...   \n",
              "2200              182               42               118  ...   \n",
              "2201               30                0                 0  ...   \n",
              "2202              217               32                12  ...   \n",
              "2203              214               80                30  ...   \n",
              "2204               61                2                 1  ...   \n",
              "\n",
              "      booleanomarital_Divorced  booleanomarital_Married  \\\n",
              "0                            0                        0   \n",
              "1                            0                        0   \n",
              "2                            0                        0   \n",
              "3                            0                        0   \n",
              "4                            0                        1   \n",
              "...                        ...                      ...   \n",
              "2200                         0                        1   \n",
              "2201                         0                        0   \n",
              "2202                         1                        0   \n",
              "2203                         0                        0   \n",
              "2204                         0                        1   \n",
              "\n",
              "      booleanomarital_Single  booleanomarital_Together  booleanomarital_Widow  \\\n",
              "0                          1                         0                      0   \n",
              "1                          1                         0                      0   \n",
              "2                          0                         1                      0   \n",
              "3                          0                         1                      0   \n",
              "4                          0                         0                      0   \n",
              "...                      ...                       ...                    ...   \n",
              "2200                       0                         0                      0   \n",
              "2201                       0                         1                      0   \n",
              "2202                       0                         0                      0   \n",
              "2203                       0                         1                      0   \n",
              "2204                       0                         0                      0   \n",
              "\n",
              "      booleanoeducation_2n Cycle  booleanoeducation_Basic  \\\n",
              "0                              0                        0   \n",
              "1                              0                        0   \n",
              "2                              0                        0   \n",
              "3                              0                        0   \n",
              "4                              0                        0   \n",
              "...                          ...                      ...   \n",
              "2200                           0                        0   \n",
              "2201                           0                        0   \n",
              "2202                           0                        0   \n",
              "2203                           0                        0   \n",
              "2204                           0                        0   \n",
              "\n",
              "      booleanoeducation_Graduation  booleanoeducation_Master  \\\n",
              "0                                1                         0   \n",
              "1                                1                         0   \n",
              "2                                1                         0   \n",
              "3                                1                         0   \n",
              "4                                0                         0   \n",
              "...                            ...                       ...   \n",
              "2200                             1                         0   \n",
              "2201                             0                         0   \n",
              "2202                             1                         0   \n",
              "2203                             0                         1   \n",
              "2204                             0                         0   \n",
              "\n",
              "      booleanoeducation_PhD  \n",
              "0                         0  \n",
              "1                         0  \n",
              "2                         0  \n",
              "3                         0  \n",
              "4                         1  \n",
              "...                     ...  \n",
              "2200                      0  \n",
              "2201                      1  \n",
              "2202                      0  \n",
              "2203                      0  \n",
              "2204                      1  \n",
              "\n",
              "[2205 rows x 54 columns]"
            ],
            "text/html": [
              "\n",
              "  <div id=\"df-8c78d0bd-01cd-41a7-b03b-bedfca50ddff\">\n",
              "    <div class=\"colab-df-container\">\n",
              "      <div>\n",
              "<style scoped>\n",
              "    .dataframe tbody tr th:only-of-type {\n",
              "        vertical-align: middle;\n",
              "    }\n",
              "\n",
              "    .dataframe tbody tr th {\n",
              "        vertical-align: top;\n",
              "    }\n",
              "\n",
              "    .dataframe thead th {\n",
              "        text-align: right;\n",
              "    }\n",
              "</style>\n",
              "<table border=\"1\" class=\"dataframe\">\n",
              "  <thead>\n",
              "    <tr style=\"text-align: right;\">\n",
              "      <th></th>\n",
              "      <th>Unnamed: 0</th>\n",
              "      <th>Income</th>\n",
              "      <th>Kidhome</th>\n",
              "      <th>Teenhome</th>\n",
              "      <th>Recency</th>\n",
              "      <th>MntWines</th>\n",
              "      <th>MntFruits</th>\n",
              "      <th>MntMeatProducts</th>\n",
              "      <th>MntFishProducts</th>\n",
              "      <th>MntSweetProducts</th>\n",
              "      <th>...</th>\n",
              "      <th>booleanomarital_Divorced</th>\n",
              "      <th>booleanomarital_Married</th>\n",
              "      <th>booleanomarital_Single</th>\n",
              "      <th>booleanomarital_Together</th>\n",
              "      <th>booleanomarital_Widow</th>\n",
              "      <th>booleanoeducation_2n Cycle</th>\n",
              "      <th>booleanoeducation_Basic</th>\n",
              "      <th>booleanoeducation_Graduation</th>\n",
              "      <th>booleanoeducation_Master</th>\n",
              "      <th>booleanoeducation_PhD</th>\n",
              "    </tr>\n",
              "  </thead>\n",
              "  <tbody>\n",
              "    <tr>\n",
              "      <th>0</th>\n",
              "      <td>0</td>\n",
              "      <td>58138.0</td>\n",
              "      <td>0</td>\n",
              "      <td>0</td>\n",
              "      <td>58</td>\n",
              "      <td>635</td>\n",
              "      <td>88</td>\n",
              "      <td>546</td>\n",
              "      <td>172</td>\n",
              "      <td>88</td>\n",
              "      <td>...</td>\n",
              "      <td>0</td>\n",
              "      <td>0</td>\n",
              "      <td>1</td>\n",
              "      <td>0</td>\n",
              "      <td>0</td>\n",
              "      <td>0</td>\n",
              "      <td>0</td>\n",
              "      <td>1</td>\n",
              "      <td>0</td>\n",
              "      <td>0</td>\n",
              "    </tr>\n",
              "    <tr>\n",
              "      <th>1</th>\n",
              "      <td>1</td>\n",
              "      <td>46344.0</td>\n",
              "      <td>1</td>\n",
              "      <td>1</td>\n",
              "      <td>38</td>\n",
              "      <td>11</td>\n",
              "      <td>1</td>\n",
              "      <td>6</td>\n",
              "      <td>2</td>\n",
              "      <td>1</td>\n",
              "      <td>...</td>\n",
              "      <td>0</td>\n",
              "      <td>0</td>\n",
              "      <td>1</td>\n",
              "      <td>0</td>\n",
              "      <td>0</td>\n",
              "      <td>0</td>\n",
              "      <td>0</td>\n",
              "      <td>1</td>\n",
              "      <td>0</td>\n",
              "      <td>0</td>\n",
              "    </tr>\n",
              "    <tr>\n",
              "      <th>2</th>\n",
              "      <td>2</td>\n",
              "      <td>71613.0</td>\n",
              "      <td>0</td>\n",
              "      <td>0</td>\n",
              "      <td>26</td>\n",
              "      <td>426</td>\n",
              "      <td>49</td>\n",
              "      <td>127</td>\n",
              "      <td>111</td>\n",
              "      <td>21</td>\n",
              "      <td>...</td>\n",
              "      <td>0</td>\n",
              "      <td>0</td>\n",
              "      <td>0</td>\n",
              "      <td>1</td>\n",
              "      <td>0</td>\n",
              "      <td>0</td>\n",
              "      <td>0</td>\n",
              "      <td>1</td>\n",
              "      <td>0</td>\n",
              "      <td>0</td>\n",
              "    </tr>\n",
              "    <tr>\n",
              "      <th>3</th>\n",
              "      <td>3</td>\n",
              "      <td>26646.0</td>\n",
              "      <td>1</td>\n",
              "      <td>0</td>\n",
              "      <td>26</td>\n",
              "      <td>11</td>\n",
              "      <td>4</td>\n",
              "      <td>20</td>\n",
              "      <td>10</td>\n",
              "      <td>3</td>\n",
              "      <td>...</td>\n",
              "      <td>0</td>\n",
              "      <td>0</td>\n",
              "      <td>0</td>\n",
              "      <td>1</td>\n",
              "      <td>0</td>\n",
              "      <td>0</td>\n",
              "      <td>0</td>\n",
              "      <td>1</td>\n",
              "      <td>0</td>\n",
              "      <td>0</td>\n",
              "    </tr>\n",
              "    <tr>\n",
              "      <th>4</th>\n",
              "      <td>4</td>\n",
              "      <td>58293.0</td>\n",
              "      <td>1</td>\n",
              "      <td>0</td>\n",
              "      <td>94</td>\n",
              "      <td>173</td>\n",
              "      <td>43</td>\n",
              "      <td>118</td>\n",
              "      <td>46</td>\n",
              "      <td>27</td>\n",
              "      <td>...</td>\n",
              "      <td>0</td>\n",
              "      <td>1</td>\n",
              "      <td>0</td>\n",
              "      <td>0</td>\n",
              "      <td>0</td>\n",
              "      <td>0</td>\n",
              "      <td>0</td>\n",
              "      <td>0</td>\n",
              "      <td>0</td>\n",
              "      <td>1</td>\n",
              "    </tr>\n",
              "    <tr>\n",
              "      <th>...</th>\n",
              "      <td>...</td>\n",
              "      <td>...</td>\n",
              "      <td>...</td>\n",
              "      <td>...</td>\n",
              "      <td>...</td>\n",
              "      <td>...</td>\n",
              "      <td>...</td>\n",
              "      <td>...</td>\n",
              "      <td>...</td>\n",
              "      <td>...</td>\n",
              "      <td>...</td>\n",
              "      <td>...</td>\n",
              "      <td>...</td>\n",
              "      <td>...</td>\n",
              "      <td>...</td>\n",
              "      <td>...</td>\n",
              "      <td>...</td>\n",
              "      <td>...</td>\n",
              "      <td>...</td>\n",
              "      <td>...</td>\n",
              "      <td>...</td>\n",
              "    </tr>\n",
              "    <tr>\n",
              "      <th>2200</th>\n",
              "      <td>2200</td>\n",
              "      <td>61223.0</td>\n",
              "      <td>0</td>\n",
              "      <td>1</td>\n",
              "      <td>46</td>\n",
              "      <td>709</td>\n",
              "      <td>43</td>\n",
              "      <td>182</td>\n",
              "      <td>42</td>\n",
              "      <td>118</td>\n",
              "      <td>...</td>\n",
              "      <td>0</td>\n",
              "      <td>1</td>\n",
              "      <td>0</td>\n",
              "      <td>0</td>\n",
              "      <td>0</td>\n",
              "      <td>0</td>\n",
              "      <td>0</td>\n",
              "      <td>1</td>\n",
              "      <td>0</td>\n",
              "      <td>0</td>\n",
              "    </tr>\n",
              "    <tr>\n",
              "      <th>2201</th>\n",
              "      <td>2201</td>\n",
              "      <td>64014.0</td>\n",
              "      <td>2</td>\n",
              "      <td>1</td>\n",
              "      <td>56</td>\n",
              "      <td>406</td>\n",
              "      <td>0</td>\n",
              "      <td>30</td>\n",
              "      <td>0</td>\n",
              "      <td>0</td>\n",
              "      <td>...</td>\n",
              "      <td>0</td>\n",
              "      <td>0</td>\n",
              "      <td>0</td>\n",
              "      <td>1</td>\n",
              "      <td>0</td>\n",
              "      <td>0</td>\n",
              "      <td>0</td>\n",
              "      <td>0</td>\n",
              "      <td>0</td>\n",
              "      <td>1</td>\n",
              "    </tr>\n",
              "    <tr>\n",
              "      <th>2202</th>\n",
              "      <td>2202</td>\n",
              "      <td>56981.0</td>\n",
              "      <td>0</td>\n",
              "      <td>0</td>\n",
              "      <td>91</td>\n",
              "      <td>908</td>\n",
              "      <td>48</td>\n",
              "      <td>217</td>\n",
              "      <td>32</td>\n",
              "      <td>12</td>\n",
              "      <td>...</td>\n",
              "      <td>1</td>\n",
              "      <td>0</td>\n",
              "      <td>0</td>\n",
              "      <td>0</td>\n",
              "      <td>0</td>\n",
              "      <td>0</td>\n",
              "      <td>0</td>\n",
              "      <td>1</td>\n",
              "      <td>0</td>\n",
              "      <td>0</td>\n",
              "    </tr>\n",
              "    <tr>\n",
              "      <th>2203</th>\n",
              "      <td>2203</td>\n",
              "      <td>69245.0</td>\n",
              "      <td>0</td>\n",
              "      <td>1</td>\n",
              "      <td>8</td>\n",
              "      <td>428</td>\n",
              "      <td>30</td>\n",
              "      <td>214</td>\n",
              "      <td>80</td>\n",
              "      <td>30</td>\n",
              "      <td>...</td>\n",
              "      <td>0</td>\n",
              "      <td>0</td>\n",
              "      <td>0</td>\n",
              "      <td>1</td>\n",
              "      <td>0</td>\n",
              "      <td>0</td>\n",
              "      <td>0</td>\n",
              "      <td>0</td>\n",
              "      <td>1</td>\n",
              "      <td>0</td>\n",
              "    </tr>\n",
              "    <tr>\n",
              "      <th>2204</th>\n",
              "      <td>2204</td>\n",
              "      <td>52869.0</td>\n",
              "      <td>1</td>\n",
              "      <td>1</td>\n",
              "      <td>40</td>\n",
              "      <td>84</td>\n",
              "      <td>3</td>\n",
              "      <td>61</td>\n",
              "      <td>2</td>\n",
              "      <td>1</td>\n",
              "      <td>...</td>\n",
              "      <td>0</td>\n",
              "      <td>1</td>\n",
              "      <td>0</td>\n",
              "      <td>0</td>\n",
              "      <td>0</td>\n",
              "      <td>0</td>\n",
              "      <td>0</td>\n",
              "      <td>0</td>\n",
              "      <td>0</td>\n",
              "      <td>1</td>\n",
              "    </tr>\n",
              "  </tbody>\n",
              "</table>\n",
              "<p>2205 rows × 54 columns</p>\n",
              "</div>\n",
              "      <button class=\"colab-df-convert\" onclick=\"convertToInteractive('df-8c78d0bd-01cd-41a7-b03b-bedfca50ddff')\"\n",
              "              title=\"Convert this dataframe to an interactive table.\"\n",
              "              style=\"display:none;\">\n",
              "        \n",
              "  <svg xmlns=\"http://www.w3.org/2000/svg\" height=\"24px\"viewBox=\"0 0 24 24\"\n",
              "       width=\"24px\">\n",
              "    <path d=\"M0 0h24v24H0V0z\" fill=\"none\"/>\n",
              "    <path d=\"M18.56 5.44l.94 2.06.94-2.06 2.06-.94-2.06-.94-.94-2.06-.94 2.06-2.06.94zm-11 1L8.5 8.5l.94-2.06 2.06-.94-2.06-.94L8.5 2.5l-.94 2.06-2.06.94zm10 10l.94 2.06.94-2.06 2.06-.94-2.06-.94-.94-2.06-.94 2.06-2.06.94z\"/><path d=\"M17.41 7.96l-1.37-1.37c-.4-.4-.92-.59-1.43-.59-.52 0-1.04.2-1.43.59L10.3 9.45l-7.72 7.72c-.78.78-.78 2.05 0 2.83L4 21.41c.39.39.9.59 1.41.59.51 0 1.02-.2 1.41-.59l7.78-7.78 2.81-2.81c.8-.78.8-2.07 0-2.86zM5.41 20L4 18.59l7.72-7.72 1.47 1.35L5.41 20z\"/>\n",
              "  </svg>\n",
              "      </button>\n",
              "      \n",
              "  <style>\n",
              "    .colab-df-container {\n",
              "      display:flex;\n",
              "      flex-wrap:wrap;\n",
              "      gap: 12px;\n",
              "    }\n",
              "\n",
              "    .colab-df-convert {\n",
              "      background-color: #E8F0FE;\n",
              "      border: none;\n",
              "      border-radius: 50%;\n",
              "      cursor: pointer;\n",
              "      display: none;\n",
              "      fill: #1967D2;\n",
              "      height: 32px;\n",
              "      padding: 0 0 0 0;\n",
              "      width: 32px;\n",
              "    }\n",
              "\n",
              "    .colab-df-convert:hover {\n",
              "      background-color: #E2EBFA;\n",
              "      box-shadow: 0px 1px 2px rgba(60, 64, 67, 0.3), 0px 1px 3px 1px rgba(60, 64, 67, 0.15);\n",
              "      fill: #174EA6;\n",
              "    }\n",
              "\n",
              "    [theme=dark] .colab-df-convert {\n",
              "      background-color: #3B4455;\n",
              "      fill: #D2E3FC;\n",
              "    }\n",
              "\n",
              "    [theme=dark] .colab-df-convert:hover {\n",
              "      background-color: #434B5C;\n",
              "      box-shadow: 0px 1px 3px 1px rgba(0, 0, 0, 0.15);\n",
              "      filter: drop-shadow(0px 1px 2px rgba(0, 0, 0, 0.3));\n",
              "      fill: #FFFFFF;\n",
              "    }\n",
              "  </style>\n",
              "\n",
              "      <script>\n",
              "        const buttonEl =\n",
              "          document.querySelector('#df-8c78d0bd-01cd-41a7-b03b-bedfca50ddff button.colab-df-convert');\n",
              "        buttonEl.style.display =\n",
              "          google.colab.kernel.accessAllowed ? 'block' : 'none';\n",
              "\n",
              "        async function convertToInteractive(key) {\n",
              "          const element = document.querySelector('#df-8c78d0bd-01cd-41a7-b03b-bedfca50ddff');\n",
              "          const dataTable =\n",
              "            await google.colab.kernel.invokeFunction('convertToInteractive',\n",
              "                                                     [key], {});\n",
              "          if (!dataTable) return;\n",
              "\n",
              "          const docLinkHtml = 'Like what you see? Visit the ' +\n",
              "            '<a target=\"_blank\" href=https://colab.research.google.com/notebooks/data_table.ipynb>data table notebook</a>'\n",
              "            + ' to learn more about interactive tables.';\n",
              "          element.innerHTML = '';\n",
              "          dataTable['output_type'] = 'display_data';\n",
              "          await google.colab.output.renderOutput(dataTable, element);\n",
              "          const docLink = document.createElement('div');\n",
              "          docLink.innerHTML = docLinkHtml;\n",
              "          element.appendChild(docLink);\n",
              "        }\n",
              "      </script>\n",
              "    </div>\n",
              "  </div>\n",
              "  "
            ]
          },
          "metadata": {},
          "execution_count": 17
        }
      ]
    },
    {
      "cell_type": "markdown",
      "source": [
        "###**Qual é a média, mediana, 25 percentil, 75 percentil, mínimo e máximo de cada uma das colunas numéricas?**"
      ],
      "metadata": {
        "id": "euJLMD222Kkz"
      }
    },
    {
      "cell_type": "code",
      "source": [
        "#estatística descritiva das variáveis numéricas\n",
        "df.describe()"
      ],
      "metadata": {
        "colab": {
          "base_uri": "https://localhost:8080/",
          "height": 411
        },
        "id": "oaId0VOIz_j-",
        "outputId": "2f7f702c-55dd-4954-8b3d-482e67c9476b"
      },
      "execution_count": 18,
      "outputs": [
        {
          "output_type": "execute_result",
          "data": {
            "text/plain": [
              "        Unnamed: 0         Income      Kidhome     Teenhome      Recency  \\\n",
              "count  2205.000000    2205.000000  2205.000000  2205.000000  2205.000000   \n",
              "mean   1102.000000   51622.094785     0.442177     0.506576    49.009070   \n",
              "std     636.672993   20713.063826     0.537132     0.544380    28.932111   \n",
              "min       0.000000    1730.000000     0.000000     0.000000     0.000000   \n",
              "25%     551.000000   35196.000000     0.000000     0.000000    24.000000   \n",
              "50%    1102.000000   51287.000000     0.000000     0.000000    49.000000   \n",
              "75%    1653.000000   68281.000000     1.000000     1.000000    74.000000   \n",
              "max    2204.000000  113734.000000     2.000000     2.000000    99.000000   \n",
              "\n",
              "          MntWines    MntFruits  MntMeatProducts  MntFishProducts  \\\n",
              "count  2205.000000  2205.000000      2205.000000      2205.000000   \n",
              "mean    306.164626    26.403175       165.312018        37.756463   \n",
              "std     337.493839    39.784484       217.784507        54.824635   \n",
              "min       0.000000     0.000000         0.000000         0.000000   \n",
              "25%      24.000000     2.000000        16.000000         3.000000   \n",
              "50%     178.000000     8.000000        68.000000        12.000000   \n",
              "75%     507.000000    33.000000       232.000000        50.000000   \n",
              "max    1493.000000   199.000000      1725.000000       259.000000   \n",
              "\n",
              "       MntSweetProducts  ...  booleanomarital_Divorced  \\\n",
              "count       2205.000000  ...               2205.000000   \n",
              "mean          27.128345  ...                  0.104308   \n",
              "std           41.130468  ...                  0.305730   \n",
              "min            0.000000  ...                  0.000000   \n",
              "25%            1.000000  ...                  0.000000   \n",
              "50%            8.000000  ...                  0.000000   \n",
              "75%           34.000000  ...                  0.000000   \n",
              "max          262.000000  ...                  1.000000   \n",
              "\n",
              "       booleanomarital_Married  booleanomarital_Single  \\\n",
              "count              2205.000000             2205.000000   \n",
              "mean                  0.387302                0.216327   \n",
              "std                   0.487244                0.411833   \n",
              "min                   0.000000                0.000000   \n",
              "25%                   0.000000                0.000000   \n",
              "50%                   0.000000                0.000000   \n",
              "75%                   1.000000                0.000000   \n",
              "max                   1.000000                1.000000   \n",
              "\n",
              "       booleanomarital_Together  booleanomarital_Widow  \\\n",
              "count               2205.000000            2205.000000   \n",
              "mean                   0.257596               0.034467   \n",
              "std                    0.437410               0.182467   \n",
              "min                    0.000000               0.000000   \n",
              "25%                    0.000000               0.000000   \n",
              "50%                    0.000000               0.000000   \n",
              "75%                    1.000000               0.000000   \n",
              "max                    1.000000               1.000000   \n",
              "\n",
              "       booleanoeducation_2n Cycle  booleanoeducation_Basic  \\\n",
              "count                 2205.000000              2205.000000   \n",
              "mean                     0.089796                 0.024490   \n",
              "std                      0.285954                 0.154599   \n",
              "min                      0.000000                 0.000000   \n",
              "25%                      0.000000                 0.000000   \n",
              "50%                      0.000000                 0.000000   \n",
              "75%                      0.000000                 0.000000   \n",
              "max                      1.000000                 1.000000   \n",
              "\n",
              "       booleanoeducation_Graduation  booleanoeducation_Master  \\\n",
              "count                   2205.000000               2205.000000   \n",
              "mean                       0.504762                  0.165079   \n",
              "std                        0.500091                  0.371336   \n",
              "min                        0.000000                  0.000000   \n",
              "25%                        0.000000                  0.000000   \n",
              "50%                        1.000000                  0.000000   \n",
              "75%                        1.000000                  0.000000   \n",
              "max                        1.000000                  1.000000   \n",
              "\n",
              "       booleanoeducation_PhD  \n",
              "count            2205.000000  \n",
              "mean                0.215873  \n",
              "std                 0.411520  \n",
              "min                 0.000000  \n",
              "25%                 0.000000  \n",
              "50%                 0.000000  \n",
              "75%                 0.000000  \n",
              "max                 1.000000  \n",
              "\n",
              "[8 rows x 52 columns]"
            ],
            "text/html": [
              "\n",
              "  <div id=\"df-f57f4460-a1be-4c6f-b92b-ed68dd19685b\">\n",
              "    <div class=\"colab-df-container\">\n",
              "      <div>\n",
              "<style scoped>\n",
              "    .dataframe tbody tr th:only-of-type {\n",
              "        vertical-align: middle;\n",
              "    }\n",
              "\n",
              "    .dataframe tbody tr th {\n",
              "        vertical-align: top;\n",
              "    }\n",
              "\n",
              "    .dataframe thead th {\n",
              "        text-align: right;\n",
              "    }\n",
              "</style>\n",
              "<table border=\"1\" class=\"dataframe\">\n",
              "  <thead>\n",
              "    <tr style=\"text-align: right;\">\n",
              "      <th></th>\n",
              "      <th>Unnamed: 0</th>\n",
              "      <th>Income</th>\n",
              "      <th>Kidhome</th>\n",
              "      <th>Teenhome</th>\n",
              "      <th>Recency</th>\n",
              "      <th>MntWines</th>\n",
              "      <th>MntFruits</th>\n",
              "      <th>MntMeatProducts</th>\n",
              "      <th>MntFishProducts</th>\n",
              "      <th>MntSweetProducts</th>\n",
              "      <th>...</th>\n",
              "      <th>booleanomarital_Divorced</th>\n",
              "      <th>booleanomarital_Married</th>\n",
              "      <th>booleanomarital_Single</th>\n",
              "      <th>booleanomarital_Together</th>\n",
              "      <th>booleanomarital_Widow</th>\n",
              "      <th>booleanoeducation_2n Cycle</th>\n",
              "      <th>booleanoeducation_Basic</th>\n",
              "      <th>booleanoeducation_Graduation</th>\n",
              "      <th>booleanoeducation_Master</th>\n",
              "      <th>booleanoeducation_PhD</th>\n",
              "    </tr>\n",
              "  </thead>\n",
              "  <tbody>\n",
              "    <tr>\n",
              "      <th>count</th>\n",
              "      <td>2205.000000</td>\n",
              "      <td>2205.000000</td>\n",
              "      <td>2205.000000</td>\n",
              "      <td>2205.000000</td>\n",
              "      <td>2205.000000</td>\n",
              "      <td>2205.000000</td>\n",
              "      <td>2205.000000</td>\n",
              "      <td>2205.000000</td>\n",
              "      <td>2205.000000</td>\n",
              "      <td>2205.000000</td>\n",
              "      <td>...</td>\n",
              "      <td>2205.000000</td>\n",
              "      <td>2205.000000</td>\n",
              "      <td>2205.000000</td>\n",
              "      <td>2205.000000</td>\n",
              "      <td>2205.000000</td>\n",
              "      <td>2205.000000</td>\n",
              "      <td>2205.000000</td>\n",
              "      <td>2205.000000</td>\n",
              "      <td>2205.000000</td>\n",
              "      <td>2205.000000</td>\n",
              "    </tr>\n",
              "    <tr>\n",
              "      <th>mean</th>\n",
              "      <td>1102.000000</td>\n",
              "      <td>51622.094785</td>\n",
              "      <td>0.442177</td>\n",
              "      <td>0.506576</td>\n",
              "      <td>49.009070</td>\n",
              "      <td>306.164626</td>\n",
              "      <td>26.403175</td>\n",
              "      <td>165.312018</td>\n",
              "      <td>37.756463</td>\n",
              "      <td>27.128345</td>\n",
              "      <td>...</td>\n",
              "      <td>0.104308</td>\n",
              "      <td>0.387302</td>\n",
              "      <td>0.216327</td>\n",
              "      <td>0.257596</td>\n",
              "      <td>0.034467</td>\n",
              "      <td>0.089796</td>\n",
              "      <td>0.024490</td>\n",
              "      <td>0.504762</td>\n",
              "      <td>0.165079</td>\n",
              "      <td>0.215873</td>\n",
              "    </tr>\n",
              "    <tr>\n",
              "      <th>std</th>\n",
              "      <td>636.672993</td>\n",
              "      <td>20713.063826</td>\n",
              "      <td>0.537132</td>\n",
              "      <td>0.544380</td>\n",
              "      <td>28.932111</td>\n",
              "      <td>337.493839</td>\n",
              "      <td>39.784484</td>\n",
              "      <td>217.784507</td>\n",
              "      <td>54.824635</td>\n",
              "      <td>41.130468</td>\n",
              "      <td>...</td>\n",
              "      <td>0.305730</td>\n",
              "      <td>0.487244</td>\n",
              "      <td>0.411833</td>\n",
              "      <td>0.437410</td>\n",
              "      <td>0.182467</td>\n",
              "      <td>0.285954</td>\n",
              "      <td>0.154599</td>\n",
              "      <td>0.500091</td>\n",
              "      <td>0.371336</td>\n",
              "      <td>0.411520</td>\n",
              "    </tr>\n",
              "    <tr>\n",
              "      <th>min</th>\n",
              "      <td>0.000000</td>\n",
              "      <td>1730.000000</td>\n",
              "      <td>0.000000</td>\n",
              "      <td>0.000000</td>\n",
              "      <td>0.000000</td>\n",
              "      <td>0.000000</td>\n",
              "      <td>0.000000</td>\n",
              "      <td>0.000000</td>\n",
              "      <td>0.000000</td>\n",
              "      <td>0.000000</td>\n",
              "      <td>...</td>\n",
              "      <td>0.000000</td>\n",
              "      <td>0.000000</td>\n",
              "      <td>0.000000</td>\n",
              "      <td>0.000000</td>\n",
              "      <td>0.000000</td>\n",
              "      <td>0.000000</td>\n",
              "      <td>0.000000</td>\n",
              "      <td>0.000000</td>\n",
              "      <td>0.000000</td>\n",
              "      <td>0.000000</td>\n",
              "    </tr>\n",
              "    <tr>\n",
              "      <th>25%</th>\n",
              "      <td>551.000000</td>\n",
              "      <td>35196.000000</td>\n",
              "      <td>0.000000</td>\n",
              "      <td>0.000000</td>\n",
              "      <td>24.000000</td>\n",
              "      <td>24.000000</td>\n",
              "      <td>2.000000</td>\n",
              "      <td>16.000000</td>\n",
              "      <td>3.000000</td>\n",
              "      <td>1.000000</td>\n",
              "      <td>...</td>\n",
              "      <td>0.000000</td>\n",
              "      <td>0.000000</td>\n",
              "      <td>0.000000</td>\n",
              "      <td>0.000000</td>\n",
              "      <td>0.000000</td>\n",
              "      <td>0.000000</td>\n",
              "      <td>0.000000</td>\n",
              "      <td>0.000000</td>\n",
              "      <td>0.000000</td>\n",
              "      <td>0.000000</td>\n",
              "    </tr>\n",
              "    <tr>\n",
              "      <th>50%</th>\n",
              "      <td>1102.000000</td>\n",
              "      <td>51287.000000</td>\n",
              "      <td>0.000000</td>\n",
              "      <td>0.000000</td>\n",
              "      <td>49.000000</td>\n",
              "      <td>178.000000</td>\n",
              "      <td>8.000000</td>\n",
              "      <td>68.000000</td>\n",
              "      <td>12.000000</td>\n",
              "      <td>8.000000</td>\n",
              "      <td>...</td>\n",
              "      <td>0.000000</td>\n",
              "      <td>0.000000</td>\n",
              "      <td>0.000000</td>\n",
              "      <td>0.000000</td>\n",
              "      <td>0.000000</td>\n",
              "      <td>0.000000</td>\n",
              "      <td>0.000000</td>\n",
              "      <td>1.000000</td>\n",
              "      <td>0.000000</td>\n",
              "      <td>0.000000</td>\n",
              "    </tr>\n",
              "    <tr>\n",
              "      <th>75%</th>\n",
              "      <td>1653.000000</td>\n",
              "      <td>68281.000000</td>\n",
              "      <td>1.000000</td>\n",
              "      <td>1.000000</td>\n",
              "      <td>74.000000</td>\n",
              "      <td>507.000000</td>\n",
              "      <td>33.000000</td>\n",
              "      <td>232.000000</td>\n",
              "      <td>50.000000</td>\n",
              "      <td>34.000000</td>\n",
              "      <td>...</td>\n",
              "      <td>0.000000</td>\n",
              "      <td>1.000000</td>\n",
              "      <td>0.000000</td>\n",
              "      <td>1.000000</td>\n",
              "      <td>0.000000</td>\n",
              "      <td>0.000000</td>\n",
              "      <td>0.000000</td>\n",
              "      <td>1.000000</td>\n",
              "      <td>0.000000</td>\n",
              "      <td>0.000000</td>\n",
              "    </tr>\n",
              "    <tr>\n",
              "      <th>max</th>\n",
              "      <td>2204.000000</td>\n",
              "      <td>113734.000000</td>\n",
              "      <td>2.000000</td>\n",
              "      <td>2.000000</td>\n",
              "      <td>99.000000</td>\n",
              "      <td>1493.000000</td>\n",
              "      <td>199.000000</td>\n",
              "      <td>1725.000000</td>\n",
              "      <td>259.000000</td>\n",
              "      <td>262.000000</td>\n",
              "      <td>...</td>\n",
              "      <td>1.000000</td>\n",
              "      <td>1.000000</td>\n",
              "      <td>1.000000</td>\n",
              "      <td>1.000000</td>\n",
              "      <td>1.000000</td>\n",
              "      <td>1.000000</td>\n",
              "      <td>1.000000</td>\n",
              "      <td>1.000000</td>\n",
              "      <td>1.000000</td>\n",
              "      <td>1.000000</td>\n",
              "    </tr>\n",
              "  </tbody>\n",
              "</table>\n",
              "<p>8 rows × 52 columns</p>\n",
              "</div>\n",
              "      <button class=\"colab-df-convert\" onclick=\"convertToInteractive('df-f57f4460-a1be-4c6f-b92b-ed68dd19685b')\"\n",
              "              title=\"Convert this dataframe to an interactive table.\"\n",
              "              style=\"display:none;\">\n",
              "        \n",
              "  <svg xmlns=\"http://www.w3.org/2000/svg\" height=\"24px\"viewBox=\"0 0 24 24\"\n",
              "       width=\"24px\">\n",
              "    <path d=\"M0 0h24v24H0V0z\" fill=\"none\"/>\n",
              "    <path d=\"M18.56 5.44l.94 2.06.94-2.06 2.06-.94-2.06-.94-.94-2.06-.94 2.06-2.06.94zm-11 1L8.5 8.5l.94-2.06 2.06-.94-2.06-.94L8.5 2.5l-.94 2.06-2.06.94zm10 10l.94 2.06.94-2.06 2.06-.94-2.06-.94-.94-2.06-.94 2.06-2.06.94z\"/><path d=\"M17.41 7.96l-1.37-1.37c-.4-.4-.92-.59-1.43-.59-.52 0-1.04.2-1.43.59L10.3 9.45l-7.72 7.72c-.78.78-.78 2.05 0 2.83L4 21.41c.39.39.9.59 1.41.59.51 0 1.02-.2 1.41-.59l7.78-7.78 2.81-2.81c.8-.78.8-2.07 0-2.86zM5.41 20L4 18.59l7.72-7.72 1.47 1.35L5.41 20z\"/>\n",
              "  </svg>\n",
              "      </button>\n",
              "      \n",
              "  <style>\n",
              "    .colab-df-container {\n",
              "      display:flex;\n",
              "      flex-wrap:wrap;\n",
              "      gap: 12px;\n",
              "    }\n",
              "\n",
              "    .colab-df-convert {\n",
              "      background-color: #E8F0FE;\n",
              "      border: none;\n",
              "      border-radius: 50%;\n",
              "      cursor: pointer;\n",
              "      display: none;\n",
              "      fill: #1967D2;\n",
              "      height: 32px;\n",
              "      padding: 0 0 0 0;\n",
              "      width: 32px;\n",
              "    }\n",
              "\n",
              "    .colab-df-convert:hover {\n",
              "      background-color: #E2EBFA;\n",
              "      box-shadow: 0px 1px 2px rgba(60, 64, 67, 0.3), 0px 1px 3px 1px rgba(60, 64, 67, 0.15);\n",
              "      fill: #174EA6;\n",
              "    }\n",
              "\n",
              "    [theme=dark] .colab-df-convert {\n",
              "      background-color: #3B4455;\n",
              "      fill: #D2E3FC;\n",
              "    }\n",
              "\n",
              "    [theme=dark] .colab-df-convert:hover {\n",
              "      background-color: #434B5C;\n",
              "      box-shadow: 0px 1px 3px 1px rgba(0, 0, 0, 0.15);\n",
              "      filter: drop-shadow(0px 1px 2px rgba(0, 0, 0, 0.3));\n",
              "      fill: #FFFFFF;\n",
              "    }\n",
              "  </style>\n",
              "\n",
              "      <script>\n",
              "        const buttonEl =\n",
              "          document.querySelector('#df-f57f4460-a1be-4c6f-b92b-ed68dd19685b button.colab-df-convert');\n",
              "        buttonEl.style.display =\n",
              "          google.colab.kernel.accessAllowed ? 'block' : 'none';\n",
              "\n",
              "        async function convertToInteractive(key) {\n",
              "          const element = document.querySelector('#df-f57f4460-a1be-4c6f-b92b-ed68dd19685b');\n",
              "          const dataTable =\n",
              "            await google.colab.kernel.invokeFunction('convertToInteractive',\n",
              "                                                     [key], {});\n",
              "          if (!dataTable) return;\n",
              "\n",
              "          const docLinkHtml = 'Like what you see? Visit the ' +\n",
              "            '<a target=\"_blank\" href=https://colab.research.google.com/notebooks/data_table.ipynb>data table notebook</a>'\n",
              "            + ' to learn more about interactive tables.';\n",
              "          element.innerHTML = '';\n",
              "          dataTable['output_type'] = 'display_data';\n",
              "          await google.colab.output.renderOutput(dataTable, element);\n",
              "          const docLink = document.createElement('div');\n",
              "          docLink.innerHTML = docLinkHtml;\n",
              "          element.appendChild(docLink);\n",
              "        }\n",
              "      </script>\n",
              "    </div>\n",
              "  </div>\n",
              "  "
            ]
          },
          "metadata": {},
          "execution_count": 18
        }
      ]
    },
    {
      "cell_type": "markdown",
      "source": [
        "###**Qual é o maior salário encontrado na nossa base? Veja na coluna Income**"
      ],
      "metadata": {
        "id": "8mr5-BZX5T9f"
      }
    },
    {
      "cell_type": "code",
      "source": [
        "max(df[\"Income\"])"
      ],
      "metadata": {
        "colab": {
          "base_uri": "https://localhost:8080/"
        },
        "id": "YQbDlDqbC8wy",
        "outputId": "324536a6-7563-43e1-bf04-7e79b3871dae"
      },
      "execution_count": 19,
      "outputs": [
        {
          "output_type": "execute_result",
          "data": {
            "text/plain": [
              "113734.0"
            ]
          },
          "metadata": {},
          "execution_count": 19
        }
      ]
    },
    {
      "cell_type": "markdown",
      "source": [
        "###**Qual é a distribuição de salário na nossa base? Temos clientes que ganham muito bem e outros que não ganham muito bem? Veja na coluna Income**"
      ],
      "metadata": {
        "id": "FUnL6uso5kNY"
      }
    },
    {
      "cell_type": "code",
      "source": [
        "df[\"Income\"].hist()"
      ],
      "metadata": {
        "colab": {
          "base_uri": "https://localhost:8080/",
          "height": 282
        },
        "id": "MyH_oTeP2RXs",
        "outputId": "f3fae203-6ce1-4ec3-a2c2-8c35991d1a7e"
      },
      "execution_count": 20,
      "outputs": [
        {
          "output_type": "execute_result",
          "data": {
            "text/plain": [
              "<matplotlib.axes._subplots.AxesSubplot at 0x7f7a599cff50>"
            ]
          },
          "metadata": {},
          "execution_count": 20
        },
        {
          "output_type": "display_data",
          "data": {
            "text/plain": [
              "<Figure size 432x288 with 1 Axes>"
            ],
            "image/png": "[encoded data removed]"
          },
          "metadata": {
            "needs_background": "light"
          }
        }
      ]
    },
    {
      "cell_type": "code",
      "source": [
        "sns.boxplot(df[\"Income\"])"
      ],
      "metadata": {
        "colab": {
          "base_uri": "https://localhost:8080/",
          "height": 351
        },
        "id": "d72AdTW8524q",
        "outputId": "60c34acb-c4f2-45a6-d0b0-cf989de028fe"
      },
      "execution_count": 21,
      "outputs": [
        {
          "output_type": "stream",
          "name": "stderr",
          "text": [
            "/usr/local/lib/python3.7/dist-packages/seaborn/_decorators.py:43: FutureWarning: Pass the following variable as a keyword arg: x. From version 0.12, the only valid positional argument will be `data`, and passing other arguments without an explicit keyword will result in an error or misinterpretation.\n",
            "  FutureWarning\n"
          ]
        },
        {
          "output_type": "execute_result",
          "data": {
            "text/plain": [
              "<matplotlib.axes._subplots.AxesSubplot at 0x7f7a598e6b10>"
            ]
          },
          "metadata": {},
          "execution_count": 21
        },
        {
          "output_type": "display_data",
          "data": {
            "text/plain": [
              "<Figure size 432x288 with 1 Axes>"
            ],
            "image/png": "[encoded data removed]"
          },
          "metadata": {
            "needs_background": "light"
          }
        }
      ]
    },
    {
      "cell_type": "markdown",
      "source": [
        "Os salários estão bem distribuídos. Poucas pessoas ganham pouco, assim como poucas pessoas ganham muito."
      ],
      "metadata": {
        "id": "LRiZL3iJ5wgY"
      }
    },
    {
      "cell_type": "markdown",
      "source": [
        "###**Nossos clientes tem níveis de educação maiores ou menores? Veja na coluna education_level**"
      ],
      "metadata": {
        "id": "IoaTeh4X6DGX"
      }
    },
    {
      "cell_type": "code",
      "source": [
        "#distribuição por escolaridade\n",
        "df[\"education_level\"].hist()"
      ],
      "metadata": {
        "colab": {
          "base_uri": "https://localhost:8080/",
          "height": 282
        },
        "id": "ZESLov9B6A3z",
        "outputId": "534f963f-2c0b-48e4-a6e1-461a1aa685df"
      },
      "execution_count": 22,
      "outputs": [
        {
          "output_type": "execute_result",
          "data": {
            "text/plain": [
              "<matplotlib.axes._subplots.AxesSubplot at 0x7f7a5940dfd0>"
            ]
          },
          "metadata": {},
          "execution_count": 22
        },
        {
          "output_type": "display_data",
          "data": {
            "text/plain": [
              "<Figure size 432x288 with 1 Axes>"
            ],
            "image/png": "[encoded data removed]"
          },
          "metadata": {
            "needs_background": "light"
          }
        }
      ]
    },
    {
      "cell_type": "code",
      "source": [
        "#gráfico de barras contando escolaridade\n",
        "sns.countplot(x=df[\"education_level\"])"
      ],
      "metadata": {
        "colab": {
          "base_uri": "https://localhost:8080/",
          "height": 297
        },
        "id": "Z8gKsaY86OZ2",
        "outputId": "73c42763-2efc-4f45-9267-43734230ce63"
      },
      "execution_count": 23,
      "outputs": [
        {
          "output_type": "execute_result",
          "data": {
            "text/plain": [
              "<matplotlib.axes._subplots.AxesSubplot at 0x7f7a59323350>"
            ]
          },
          "metadata": {},
          "execution_count": 23
        },
        {
          "output_type": "display_data",
          "data": {
            "text/plain": [
              "<Figure size 432x288 with 1 Axes>"
            ],
            "image/png": "[encoded data removed]"
          },
          "metadata": {
            "needs_background": "light"
          }
        }
      ]
    },
    {
      "cell_type": "markdown",
      "source": [
        "A maioria dos clientes tem graduação, seguido de PhD e mestrado. Assim, podemos concluir que a maior parte tem nível superior."
      ],
      "metadata": {
        "id": "vllnjU8p6sFN"
      }
    },
    {
      "cell_type": "markdown",
      "source": [
        "###**Quantos clientes temos em cada estado civil? Veja na coluna marital_status**"
      ],
      "metadata": {
        "id": "Gi2WQgVm65i6"
      }
    },
    {
      "cell_type": "code",
      "source": [
        "#contagem de estado civil\n",
        "df.groupby(\"marital_status\")[\"marital_status\"].count()"
      ],
      "metadata": {
        "colab": {
          "base_uri": "https://localhost:8080/"
        },
        "id": "ViV4hbi57MgO",
        "outputId": "d621ea17-ea81-4da3-d97f-197e41abf30d"
      },
      "execution_count": 24,
      "outputs": [
        {
          "output_type": "execute_result",
          "data": {
            "text/plain": [
              "marital_status\n",
              "Divorced    230\n",
              "Married     854\n",
              "Single      477\n",
              "Together    568\n",
              "Widow        76\n",
              "Name: marital_status, dtype: int64"
            ]
          },
          "metadata": {},
          "execution_count": 24
        }
      ]
    },
    {
      "cell_type": "code",
      "source": [
        "#gráfico de barras com contagem\n",
        "sns.countplot(x=df[\"marital_status\"])"
      ],
      "metadata": {
        "colab": {
          "base_uri": "https://localhost:8080/",
          "height": 297
        },
        "id": "tViPk6aE684H",
        "outputId": "b1330a18-1292-43e0-9003-5affe3e678a6"
      },
      "execution_count": 25,
      "outputs": [
        {
          "output_type": "execute_result",
          "data": {
            "text/plain": [
              "<matplotlib.axes._subplots.AxesSubplot at 0x7f7a5931db90>"
            ]
          },
          "metadata": {},
          "execution_count": 25
        },
        {
          "output_type": "display_data",
          "data": {
            "text/plain": [
              "<Figure size 432x288 with 1 Axes>"
            ],
            "image/png": "[encoded data removed]"
          },
          "metadata": {
            "needs_background": "light"
          }
        }
      ]
    },
    {
      "cell_type": "markdown",
      "source": [
        "###**Qual é a relação de estado civil com número de filhos? Será que as pessoas casadas têm um maior número de filhos? Filhos está na coluna kids**"
      ],
      "metadata": {
        "id": "NhOXa0pd7sdf"
      }
    },
    {
      "cell_type": "code",
      "source": [
        "sns.boxplot(x=\"marital_status\", y=\"kids\", data=df)"
      ],
      "metadata": {
        "colab": {
          "base_uri": "https://localhost:8080/",
          "height": 297
        },
        "id": "aDCNqRoP8jgg",
        "outputId": "72a08fd0-132c-4366-b993-2f810043bb28"
      },
      "execution_count": 26,
      "outputs": [
        {
          "output_type": "execute_result",
          "data": {
            "text/plain": [
              "<matplotlib.axes._subplots.AxesSubplot at 0x7f7a59283f10>"
            ]
          },
          "metadata": {},
          "execution_count": 26
        },
        {
          "output_type": "display_data",
          "data": {
            "text/plain": [
              "<Figure size 432x288 with 1 Axes>"
            ],
            "image/png": "[encoded data removed]"
          },
          "metadata": {
            "needs_background": "light"
          }
        }
      ]
    },
    {
      "cell_type": "code",
      "source": [
        "#calculando a média de filhos por status de união\n",
        "df.groupby(\"marital_status\")[\"kids\"].mean()"
      ],
      "metadata": {
        "colab": {
          "base_uri": "https://localhost:8080/"
        },
        "id": "qaqMSE2L9mb7",
        "outputId": "566fc46d-e367-4053-904d-ed0b36222ed5"
      },
      "execution_count": 27,
      "outputs": [
        {
          "output_type": "execute_result",
          "data": {
            "text/plain": [
              "marital_status\n",
              "Divorced    1.008696\n",
              "Married     0.967213\n",
              "Single      0.859539\n",
              "Together    0.980634\n",
              "Widow       0.881579\n",
              "Name: kids, dtype: float64"
            ]
          },
          "metadata": {},
          "execution_count": 27
        }
      ]
    },
    {
      "cell_type": "code",
      "source": [
        "#calculando a mediana de filhos por status de união\n",
        "df.groupby(\"marital_status\")[\"kids\"].median()"
      ],
      "metadata": {
        "colab": {
          "base_uri": "https://localhost:8080/"
        },
        "id": "5laP7SN09pjA",
        "outputId": "a3adea99-0519-49b9-aac4-3c866290844d"
      },
      "execution_count": 28,
      "outputs": [
        {
          "output_type": "execute_result",
          "data": {
            "text/plain": [
              "marital_status\n",
              "Divorced    1.0\n",
              "Married     1.0\n",
              "Single      1.0\n",
              "Together    1.0\n",
              "Widow       1.0\n",
              "Name: kids, dtype: float64"
            ]
          },
          "metadata": {},
          "execution_count": 28
        }
      ]
    },
    {
      "cell_type": "markdown",
      "source": [
        "Observando apenas pelo boxplot e mediana, os números são muito próximos. Porém, ao olharmos a média, vemos que os solteiros têm menos filhos. No entanto, essa média não é suficiente para afirmar. Por isso, é necessário um teste de hipóteses."
      ],
      "metadata": {
        "id": "PxsswWvz9wGV"
      }
    },
    {
      "cell_type": "markdown",
      "source": [
        "###**As pessoas gastam mais ou menos em nossa plataforma quando têm filhos? Veja nas colunas expenses e kids**"
      ],
      "metadata": {
        "id": "IJ4jH-Bq-b8s"
      }
    },
    {
      "cell_type": "code",
      "source": [
        "sns.boxplot(x=\"kids\", y=\"expenses\", data=df)"
      ],
      "metadata": {
        "colab": {
          "base_uri": "https://localhost:8080/",
          "height": 296
        },
        "id": "WGPY3kSC-dxc",
        "outputId": "b125d48b-bcdd-40f2-f7d2-28f39a568731"
      },
      "execution_count": 29,
      "outputs": [
        {
          "output_type": "execute_result",
          "data": {
            "text/plain": [
              "<matplotlib.axes._subplots.AxesSubplot at 0x7f7a59a697d0>"
            ]
          },
          "metadata": {},
          "execution_count": 29
        },
        {
          "output_type": "display_data",
          "data": {
            "text/plain": [
              "<Figure size 432x288 with 1 Axes>"
            ],
            "image/png": "[encoded data removed]"
          },
          "metadata": {
            "needs_background": "light"
          }
        }
      ]
    },
    {
      "cell_type": "code",
      "source": [
        "#gráfico de dispersão: chamar o código e mostrar em seguida\n",
        "plt.scatter(df[\"kids\"], df[\"expenses\"])\n",
        "plt.show()"
      ],
      "metadata": {
        "colab": {
          "base_uri": "https://localhost:8080/",
          "height": 265
        },
        "id": "UkAi5KYigOK-",
        "outputId": "2da0f840-df2b-42cd-ef7b-3d45d010ae82"
      },
      "execution_count": 30,
      "outputs": [
        {
          "output_type": "display_data",
          "data": {
            "text/plain": [
              "<Figure size 432x288 with 1 Axes>"
            ],
            "image/png": "[encoded data removed]"
          },
          "metadata": {
            "needs_background": "light"
          }
        }
      ]
    },
    {
      "cell_type": "code",
      "source": [
        "#calculando a média de gastos por quantidade de filhos\n",
        "df.groupby(\"kids\")[\"expenses\"].mean()"
      ],
      "metadata": {
        "colab": {
          "base_uri": "https://localhost:8080/"
        },
        "id": "KYZ6TIJlgbzO",
        "outputId": "8f527696-1a19-4bde-a077-d6175f0ca134"
      },
      "execution_count": 31,
      "outputs": [
        {
          "output_type": "execute_result",
          "data": {
            "text/plain": [
              "kids\n",
              "0    1041.207006\n",
              "1     434.530576\n",
              "2     221.568675\n",
              "3     237.380000\n",
              "Name: expenses, dtype: float64"
            ]
          },
          "metadata": {},
          "execution_count": 31
        }
      ]
    },
    {
      "cell_type": "code",
      "source": [
        "#calculando a mediana de gastos por quantidade de filhos\n",
        "df.groupby(\"kids\")[\"expenses\"].median()"
      ],
      "metadata": {
        "colab": {
          "base_uri": "https://localhost:8080/"
        },
        "id": "CD5L4Mg2gkfe",
        "outputId": "56989375-38c9-4950-ead4-efcb3a7f79fc"
      },
      "execution_count": 32,
      "outputs": [
        {
          "output_type": "execute_result",
          "data": {
            "text/plain": [
              "kids\n",
              "0    1106.5\n",
              "1     264.0\n",
              "2      84.0\n",
              "3      62.0\n",
              "Name: expenses, dtype: float64"
            ]
          },
          "metadata": {},
          "execution_count": 32
        }
      ]
    },
    {
      "cell_type": "markdown",
      "source": [
        "Observando o boxplot, poderíamos dizer que os clientes que não possuem filhos gastam mais, assim como com a observação da média e mediana. No entanto, como os boxplots se sobrepõem, não podemos garantir essa informação, sendo necessário um teste de hipótese para validação. O que podemos validar é que sim, existe uma tendência."
      ],
      "metadata": {
        "id": "M73OPeZBBpsg"
      }
    },
    {
      "cell_type": "markdown",
      "source": [
        "###**Pessoas que têm um maior salário gastam mais? Veja nas colunas Income e expenses**"
      ],
      "metadata": {
        "id": "Lwuk-gURB6ga"
      }
    },
    {
      "cell_type": "code",
      "source": [
        "#gráfico de dispersão: chamar o código e mostrar em seguida\n",
        "plt.scatter(df[\"expenses\"], df[\"Income\"])\n",
        "plt.show()"
      ],
      "metadata": {
        "colab": {
          "base_uri": "https://localhost:8080/",
          "height": 265
        },
        "id": "wdAKIIdwB8yX",
        "outputId": "9524919f-93a7-46e8-d741-7f1bf68ce23b"
      },
      "execution_count": 33,
      "outputs": [
        {
          "output_type": "display_data",
          "data": {
            "text/plain": [
              "<Figure size 432x288 with 1 Axes>"
            ],
            "image/png": "[encoded data removed]"
          },
          "metadata": {
            "needs_background": "light"
          }
        }
      ]
    },
    {
      "cell_type": "code",
      "source": [
        "#correlação\n",
        "df[\"expenses\"].corr(df[\"Income\"])"
      ],
      "metadata": {
        "colab": {
          "base_uri": "https://localhost:8080/"
        },
        "id": "l2hm1o08CbLO",
        "outputId": "e2e5c6db-d5e4-4272-bc8a-8d73f0e5be7e"
      },
      "execution_count": 34,
      "outputs": [
        {
          "output_type": "execute_result",
          "data": {
            "text/plain": [
              "0.8230660021398378"
            ]
          },
          "metadata": {},
          "execution_count": 34
        }
      ]
    },
    {
      "cell_type": "markdown",
      "source": [
        "O gráfico mostra uma correlação positiva forte, ou seja, pessoas que ganham mais, gastam mais."
      ],
      "metadata": {
        "id": "QLJEvfveCgqh"
      }
    }
  ]
}